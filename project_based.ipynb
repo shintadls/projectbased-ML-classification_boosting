{
  "nbformat": 4,
  "nbformat_minor": 0,
  "metadata": {
    "colab": {
      "provenance": [],
      "include_colab_link": true
    },
    "kernelspec": {
      "name": "python3",
      "display_name": "Python 3"
    },
    "language_info": {
      "name": "python"
    }
  },
  "cells": [
    {
      "cell_type": "markdown",
      "metadata": {
        "id": "view-in-github",
        "colab_type": "text"
      },
      "source": [
        "<a href=\"https://colab.research.google.com/github/shintadls/projectbased-ML-classification_boosting/blob/main/project_based.ipynb\" target=\"_parent\"><img src=\"https://colab.research.google.com/assets/colab-badge.svg\" alt=\"Open In Colab\"/></a>"
      ]
    },
    {
      "cell_type": "code",
      "source": [
        "!pip install category_encoders"
      ],
      "metadata": {
        "id": "ysi1VXurpcxx",
        "colab": {
          "base_uri": "https://localhost:8080/"
        },
        "outputId": "214387bb-3129-42c2-96ca-2410ba5251a5"
      },
      "execution_count": null,
      "outputs": [
        {
          "output_type": "stream",
          "name": "stdout",
          "text": [
            "Looking in indexes: https://pypi.org/simple, https://us-python.pkg.dev/colab-wheels/public/simple/\n",
            "Requirement already satisfied: category_encoders in /usr/local/lib/python3.8/dist-packages (2.5.1.post0)\n",
            "Requirement already satisfied: numpy>=1.14.0 in /usr/local/lib/python3.8/dist-packages (from category_encoders) (1.21.6)\n",
            "Requirement already satisfied: scikit-learn>=0.20.0 in /usr/local/lib/python3.8/dist-packages (from category_encoders) (1.0.2)\n",
            "Requirement already satisfied: pandas>=1.0.5 in /usr/local/lib/python3.8/dist-packages (from category_encoders) (1.3.5)\n",
            "Requirement already satisfied: statsmodels>=0.9.0 in /usr/local/lib/python3.8/dist-packages (from category_encoders) (0.12.2)\n",
            "Requirement already satisfied: patsy>=0.5.1 in /usr/local/lib/python3.8/dist-packages (from category_encoders) (0.5.3)\n",
            "Requirement already satisfied: scipy>=1.0.0 in /usr/local/lib/python3.8/dist-packages (from category_encoders) (1.7.3)\n",
            "Requirement already satisfied: pytz>=2017.3 in /usr/local/lib/python3.8/dist-packages (from pandas>=1.0.5->category_encoders) (2022.7)\n",
            "Requirement already satisfied: python-dateutil>=2.7.3 in /usr/local/lib/python3.8/dist-packages (from pandas>=1.0.5->category_encoders) (2.8.2)\n",
            "Requirement already satisfied: six in /usr/local/lib/python3.8/dist-packages (from patsy>=0.5.1->category_encoders) (1.15.0)\n",
            "Requirement already satisfied: threadpoolctl>=2.0.0 in /usr/local/lib/python3.8/dist-packages (from scikit-learn>=0.20.0->category_encoders) (3.1.0)\n",
            "Requirement already satisfied: joblib>=0.11 in /usr/local/lib/python3.8/dist-packages (from scikit-learn>=0.20.0->category_encoders) (1.2.0)\n"
          ]
        }
      ]
    },
    {
      "cell_type": "markdown",
      "source": [
        "Importing all library that necessary "
      ],
      "metadata": {
        "id": "ToI_ZcY0mPLp"
      }
    },
    {
      "cell_type": "code",
      "execution_count": null,
      "metadata": {
        "id": "Se0uA49-RQxQ"
      },
      "outputs": [],
      "source": [
        "import pandas as pd\n",
        "import numpy as np\n",
        "from google.colab import drive\n",
        "from sklearn.model_selection import train_test_split\n",
        "import category_encoders as ce\n",
        "from sklearn.ensemble import AdaBoostClassifier\n",
        "from sklearn import datasets\n",
        "from sklearn import metrics\n",
        "import seaborn as sns\n",
        "from sklearn.preprocessing import LabelEncoder"
      ]
    },
    {
      "cell_type": "markdown",
      "source": [
        "Read the german_credit.csv"
      ],
      "metadata": {
        "id": "kG6Zpua0mWwv"
      }
    },
    {
      "cell_type": "code",
      "source": [
        "df = pd.read_csv('german_credit.csv',sep=';') # sep for separating every each data by \";\""
      ],
      "metadata": {
        "id": "7N-xOo9tTJKQ"
      },
      "execution_count": null,
      "outputs": []
    },
    {
      "cell_type": "code",
      "source": [
        "df.info() # Showing what info type data value "
      ],
      "metadata": {
        "colab": {
          "base_uri": "https://localhost:8080/"
        },
        "id": "mIUqK5G22yK3",
        "outputId": "1d745451-ba31-4d41-e32a-99ade494e676"
      },
      "execution_count": null,
      "outputs": [
        {
          "output_type": "stream",
          "name": "stdout",
          "text": [
            "<class 'pandas.core.frame.DataFrame'>\n",
            "RangeIndex: 1000 entries, 0 to 999\n",
            "Data columns (total 21 columns):\n",
            " #   Column                   Non-Null Count  Dtype \n",
            "---  ------                   --------------  ----- \n",
            " 0   status                   1000 non-null   object\n",
            " 1   duration                 1000 non-null   int64 \n",
            " 2   credit_history           1000 non-null   object\n",
            " 3   purpose                  1000 non-null   object\n",
            " 4   amount                   1000 non-null   int64 \n",
            " 5   savings                  1000 non-null   object\n",
            " 6   employment_duration      1000 non-null   object\n",
            " 7   installment_rate         1000 non-null   object\n",
            " 8   personal_status_sex      1000 non-null   object\n",
            " 9   other_debtors            1000 non-null   object\n",
            " 10  present_residence        1000 non-null   object\n",
            " 11  property                 1000 non-null   object\n",
            " 12  age                      1000 non-null   int64 \n",
            " 13  other_installment_plans  1000 non-null   object\n",
            " 14  housing                  1000 non-null   object\n",
            " 15  number_credits           1000 non-null   object\n",
            " 16  job                      1000 non-null   object\n",
            " 17  people_liable            1000 non-null   object\n",
            " 18  telephone                1000 non-null   object\n",
            " 19  foreign_worker           1000 non-null   object\n",
            " 20  credit_risk              1000 non-null   object\n",
            "dtypes: int64(3), object(18)\n",
            "memory usage: 164.2+ KB\n"
          ]
        }
      ]
    },
    {
      "cell_type": "markdown",
      "source": [
        "Showing data outlier by using boxplot\n"
      ],
      "metadata": {
        "id": "3qlr7qVMm7Fg"
      }
    },
    {
      "cell_type": "code",
      "source": [
        "sns.boxplot(x=df['duration']) "
      ],
      "metadata": {
        "colab": {
          "base_uri": "https://localhost:8080/",
          "height": 297
        },
        "id": "EZ_NcDjp1tRf",
        "outputId": "35eb48be-863b-45cf-af62-3b960194fa03"
      },
      "execution_count": null,
      "outputs": [
        {
          "output_type": "execute_result",
          "data": {
            "text/plain": [
              "<matplotlib.axes._subplots.AxesSubplot at 0x7f85598cb040>"
            ]
          },
          "metadata": {},
          "execution_count": 170
        },
        {
          "output_type": "display_data",
          "data": {
            "text/plain": [
              "<Figure size 432x288 with 1 Axes>"
            ],
            "image/png": "[encoded data removed]"
          },
          "metadata": {
            "needs_background": "light"
          }
        }
      ]
    },
    {
      "cell_type": "code",
      "source": [
        "sns.boxplot(x=df['amount'])"
      ],
      "metadata": {
        "colab": {
          "base_uri": "https://localhost:8080/",
          "height": 297
        },
        "id": "5dFJMsnS2M4V",
        "outputId": "41a7865d-f565-4b8e-969e-3fdaa5003588"
      },
      "execution_count": null,
      "outputs": [
        {
          "output_type": "execute_result",
          "data": {
            "text/plain": [
              "<matplotlib.axes._subplots.AxesSubplot at 0x7f8559841c40>"
            ]
          },
          "metadata": {},
          "execution_count": 171
        },
        {
          "output_type": "display_data",
          "data": {
            "text/plain": [
              "<Figure size 432x288 with 1 Axes>"
            ],
            "image/png": "[encoded data removed]"
          },
          "metadata": {
            "needs_background": "light"
          }
        }
      ]
    },
    {
      "cell_type": "code",
      "source": [
        "sns.boxplot(x=df['age'])"
      ],
      "metadata": {
        "colab": {
          "base_uri": "https://localhost:8080/",
          "height": 297
        },
        "id": "YtyP15mf2M-E",
        "outputId": "78609d72-e4d3-4af6-9342-8cebb04da91a"
      },
      "execution_count": null,
      "outputs": [
        {
          "output_type": "execute_result",
          "data": {
            "text/plain": [
              "<matplotlib.axes._subplots.AxesSubplot at 0x7f8559da11f0>"
            ]
          },
          "metadata": {},
          "execution_count": 172
        },
        {
          "output_type": "display_data",
          "data": {
            "text/plain": [
              "<Figure size 432x288 with 1 Axes>"
            ],
            "image/png": "[encoded data removed]"
          },
          "metadata": {
            "needs_background": "light"
          }
        }
      ]
    },
    {
      "cell_type": "code",
      "source": [
        "Q1 = df.quantile(0.25)\n",
        "Q3 = df.quantile(0.75)\n",
        "IQR=Q3-Q1\n",
        "df=df[~((df<(Q1-1.5*IQR))|(df>(Q3+1.5*IQR))).any(axis=1)]\n",
        "\n",
        "df.shape"
      ],
      "metadata": {
        "colab": {
          "base_uri": "https://localhost:8080/"
        },
        "id": "osmnAK2W27Nt",
        "outputId": "feaa6a29-d266-4226-c7f5-f338d6a41083"
      },
      "execution_count": null,
      "outputs": [
        {
          "output_type": "stream",
          "name": "stderr",
          "text": [
            "<ipython-input-173-9a16a617c526>:4: FutureWarning: Automatic reindexing on DataFrame vs Series comparisons is deprecated and will raise ValueError in a future version.  Do `left, right = left.align(right, axis=1, copy=False)` before e.g. `left == right`\n",
            "  df=df[~((df<(Q1-1.5*IQR))|(df>(Q3+1.5*IQR))).any(axis=1)]\n"
          ]
        },
        {
          "output_type": "execute_result",
          "data": {
            "text/plain": [
              "(862, 21)"
            ]
          },
          "metadata": {},
          "execution_count": 173
        }
      ]
    },
    {
      "cell_type": "markdown",
      "source": [
        "Encoding One_hot"
      ],
      "metadata": {
        "id": "GxwekRIbj_Os"
      }
    },
    {
      "cell_type": "code",
      "source": [
        "# # One-hot encode the categorical columns\n",
        "# df = pd.get_dummies(df, columns=['status', 'credit_history', 'purpose', 'savings', 'employment_duration', 'installment_rate', 'personal_status_sex', 'other_debtors', 'present_residence', 'property', 'other_installment_plans', 'housing', 'number_credits', 'job', 'people_liable', 'telephone', 'foreign_worker'])\n",
        "# le = LabelEncoder()\n",
        "# df['credit_risk'] = le.fit_transform(df['credit_risk'])\n",
        "\n",
        "# # View the resulting data\n",
        "# df.info()\n",
        "\n",
        "# # Check duplicate data\n",
        "# # df.duplicated().sum()"
      ],
      "metadata": {
        "id": "_DVWFJg1kDcM"
      },
      "execution_count": null,
      "outputs": []
    },
    {
      "cell_type": "markdown",
      "source": [
        "Encoding Label Encoder"
      ],
      "metadata": {
        "id": "gNaUPhAhopp6"
      }
    },
    {
      "cell_type": "code",
      "source": [
        "# X1 = df\n",
        "# col = ['status', 'credit_history','purpose','savings','employment_duration', 'installment_rate','personal_status_sex', 'other_debtors', 'present_residence', 'property', 'other_installment_plans', 'housing', 'number_credits', 'job', 'people_liable', 'telephone', 'foreign_worker','credit_risk']\n",
        "\n",
        "# # converting the non-numeric to numeric values\n",
        "# le = LabelEncoder()\n",
        "# for i in col:\n",
        "#   y = df[i]\n",
        "#   X1[i] = le.fit_transform(X1[i])\n",
        "# y = le.transform(y)\n",
        "\n",
        "# df"
      ],
      "metadata": {
        "id": "1YF5I7AOoxuC"
      },
      "execution_count": null,
      "outputs": []
    },
    {
      "cell_type": "markdown",
      "source": [
        "Target Encoding"
      ],
      "metadata": {
        "id": "b7zJx0BdpOfR"
      }
    },
    {
      "cell_type": "code",
      "source": [
        "targenc = ce.TargetEncoder()\n",
        "col = ['status', 'credit_history','purpose','savings','employment_duration', 'installment_rate','personal_status_sex', 'other_debtors', 'present_residence', 'property', 'other_installment_plans', 'housing', 'number_credits', 'job', 'people_liable', 'telephone', 'foreign_worker']\n",
        "le = LabelEncoder()\n",
        "df['credit_risk'] = le.fit_transform(df['credit_risk'])\n",
        "for i in col:\n",
        "    df_new = targenc.fit_transform(df[i], df['credit_risk'])\n",
        "    df = df_new.join(df.drop(i, axis=1))\n",
        "\n",
        "df.head()"
      ],
      "metadata": {
        "id": "pg6wQH1JpAPh",
        "colab": {
          "base_uri": "https://localhost:8080/",
          "height": 484
        },
        "outputId": "86a9f7e7-d98d-4eca-ed9a-6bdb3e299e04"
      },
      "execution_count": null,
      "outputs": [
        {
          "output_type": "stream",
          "name": "stderr",
          "text": [
            "/usr/local/lib/python3.8/dist-packages/category_encoders/target_encoder.py:122: FutureWarning: Default parameter min_samples_leaf will change in version 2.6.See https://github.com/scikit-learn-contrib/category_encoders/issues/327\n",
            "  warnings.warn(\"Default parameter min_samples_leaf will change in version 2.6.\"\n",
            "/usr/local/lib/python3.8/dist-packages/category_encoders/target_encoder.py:127: FutureWarning: Default parameter smoothing will change in version 2.6.See https://github.com/scikit-learn-contrib/category_encoders/issues/327\n",
            "  warnings.warn(\"Default parameter smoothing will change in version 2.6.\"\n",
            "<ipython-input-176-241cdb3073e6>:4: SettingWithCopyWarning: \n",
            "A value is trying to be set on a copy of a slice from a DataFrame.\n",
            "Try using .loc[row_indexer,col_indexer] = value instead\n",
            "\n",
            "See the caveats in the documentation: https://pandas.pydata.org/pandas-docs/stable/user_guide/indexing.html#returning-a-view-versus-a-copy\n",
            "  df['credit_risk'] = le.fit_transform(df['credit_risk'])\n"
          ]
        },
        {
          "output_type": "execute_result",
          "data": {
            "text/plain": [
              "   foreign_worker  telephone  people_liable       job  number_credits  \\\n",
              "0        0.727053   0.711359       0.738356  0.740143        0.719490   \n",
              "1        0.727053   0.711359       0.719697  0.740143        0.763066   \n",
              "2        0.727053   0.711359       0.738356  0.732620        0.719490   \n",
              "3        0.941176   0.711359       0.719697  0.732620        0.763066   \n",
              "4        0.941176   0.711359       0.738356  0.732620        0.763066   \n",
              "\n",
              "    housing  other_installment_plans  property  present_residence  \\\n",
              "0  0.656442                 0.760226  0.714953           0.755043   \n",
              "1  0.656442                 0.760226  0.795455           0.724907   \n",
              "2  0.656442                 0.760226  0.795455           0.755043   \n",
              "3  0.656442                 0.760226  0.795455           0.724907   \n",
              "4  0.761830                 0.617391  0.714953           0.755043   \n",
              "\n",
              "   other_debtors  ...  installment_rate  employment_duration   savings  \\\n",
              "0       0.733333  ...          0.689412             0.624204  0.685714   \n",
              "1       0.733333  ...          0.771277             0.733108  0.685714   \n",
              "2       0.733333  ...          0.771277             0.815068  0.720930   \n",
              "3       0.733333  ...          0.768116             0.733108  0.685714   \n",
              "4       0.733333  ...          0.689412             0.733108  0.685714   \n",
              "\n",
              "    purpose  credit_history    status  duration  amount  age  credit_risk  \n",
              "0  0.701149        0.849421  0.531915        18    1049   21            1  \n",
              "1  0.639024        0.849421  0.531915         9    2799   36            1  \n",
              "2  0.760563        0.727468  0.674528        12     841   23            1  \n",
              "3  0.639024        0.849421  0.531915        12    2122   39            1  \n",
              "4  0.639024        0.849421  0.531915        12    2171   38            1  \n",
              "\n",
              "[5 rows x 21 columns]"
            ],
            "text/html": [
              "\n",
              "  <div id=\"df-c8fa73bc-a4e1-4125-b4fa-94376a2271ba\">\n",
              "    <div class=\"colab-df-container\">\n",
              "      <div>\n",
              "<style scoped>\n",
              "    .dataframe tbody tr th:only-of-type {\n",
              "        vertical-align: middle;\n",
              "    }\n",
              "\n",
              "    .dataframe tbody tr th {\n",
              "        vertical-align: top;\n",
              "    }\n",
              "\n",
              "    .dataframe thead th {\n",
              "        text-align: right;\n",
              "    }\n",
              "</style>\n",
              "<table border=\"1\" class=\"dataframe\">\n",
              "  <thead>\n",
              "    <tr style=\"text-align: right;\">\n",
              "      <th></th>\n",
              "      <th>foreign_worker</th>\n",
              "      <th>telephone</th>\n",
              "      <th>people_liable</th>\n",
              "      <th>job</th>\n",
              "      <th>number_credits</th>\n",
              "      <th>housing</th>\n",
              "      <th>other_installment_plans</th>\n",
              "      <th>property</th>\n",
              "      <th>present_residence</th>\n",
              "      <th>other_debtors</th>\n",
              "      <th>...</th>\n",
              "      <th>installment_rate</th>\n",
              "      <th>employment_duration</th>\n",
              "      <th>savings</th>\n",
              "      <th>purpose</th>\n",
              "      <th>credit_history</th>\n",
              "      <th>status</th>\n",
              "      <th>duration</th>\n",
              "      <th>amount</th>\n",
              "      <th>age</th>\n",
              "      <th>credit_risk</th>\n",
              "    </tr>\n",
              "  </thead>\n",
              "  <tbody>\n",
              "    <tr>\n",
              "      <th>0</th>\n",
              "      <td>0.727053</td>\n",
              "      <td>0.711359</td>\n",
              "      <td>0.738356</td>\n",
              "      <td>0.740143</td>\n",
              "      <td>0.719490</td>\n",
              "      <td>0.656442</td>\n",
              "      <td>0.760226</td>\n",
              "      <td>0.714953</td>\n",
              "      <td>0.755043</td>\n",
              "      <td>0.733333</td>\n",
              "      <td>...</td>\n",
              "      <td>0.689412</td>\n",
              "      <td>0.624204</td>\n",
              "      <td>0.685714</td>\n",
              "      <td>0.701149</td>\n",
              "      <td>0.849421</td>\n",
              "      <td>0.531915</td>\n",
              "      <td>18</td>\n",
              "      <td>1049</td>\n",
              "      <td>21</td>\n",
              "      <td>1</td>\n",
              "    </tr>\n",
              "    <tr>\n",
              "      <th>1</th>\n",
              "      <td>0.727053</td>\n",
              "      <td>0.711359</td>\n",
              "      <td>0.719697</td>\n",
              "      <td>0.740143</td>\n",
              "      <td>0.763066</td>\n",
              "      <td>0.656442</td>\n",
              "      <td>0.760226</td>\n",
              "      <td>0.795455</td>\n",
              "      <td>0.724907</td>\n",
              "      <td>0.733333</td>\n",
              "      <td>...</td>\n",
              "      <td>0.771277</td>\n",
              "      <td>0.733108</td>\n",
              "      <td>0.685714</td>\n",
              "      <td>0.639024</td>\n",
              "      <td>0.849421</td>\n",
              "      <td>0.531915</td>\n",
              "      <td>9</td>\n",
              "      <td>2799</td>\n",
              "      <td>36</td>\n",
              "      <td>1</td>\n",
              "    </tr>\n",
              "    <tr>\n",
              "      <th>2</th>\n",
              "      <td>0.727053</td>\n",
              "      <td>0.711359</td>\n",
              "      <td>0.738356</td>\n",
              "      <td>0.732620</td>\n",
              "      <td>0.719490</td>\n",
              "      <td>0.656442</td>\n",
              "      <td>0.760226</td>\n",
              "      <td>0.795455</td>\n",
              "      <td>0.755043</td>\n",
              "      <td>0.733333</td>\n",
              "      <td>...</td>\n",
              "      <td>0.771277</td>\n",
              "      <td>0.815068</td>\n",
              "      <td>0.720930</td>\n",
              "      <td>0.760563</td>\n",
              "      <td>0.727468</td>\n",
              "      <td>0.674528</td>\n",
              "      <td>12</td>\n",
              "      <td>841</td>\n",
              "      <td>23</td>\n",
              "      <td>1</td>\n",
              "    </tr>\n",
              "    <tr>\n",
              "      <th>3</th>\n",
              "      <td>0.941176</td>\n",
              "      <td>0.711359</td>\n",
              "      <td>0.719697</td>\n",
              "      <td>0.732620</td>\n",
              "      <td>0.763066</td>\n",
              "      <td>0.656442</td>\n",
              "      <td>0.760226</td>\n",
              "      <td>0.795455</td>\n",
              "      <td>0.724907</td>\n",
              "      <td>0.733333</td>\n",
              "      <td>...</td>\n",
              "      <td>0.768116</td>\n",
              "      <td>0.733108</td>\n",
              "      <td>0.685714</td>\n",
              "      <td>0.639024</td>\n",
              "      <td>0.849421</td>\n",
              "      <td>0.531915</td>\n",
              "      <td>12</td>\n",
              "      <td>2122</td>\n",
              "      <td>39</td>\n",
              "      <td>1</td>\n",
              "    </tr>\n",
              "    <tr>\n",
              "      <th>4</th>\n",
              "      <td>0.941176</td>\n",
              "      <td>0.711359</td>\n",
              "      <td>0.738356</td>\n",
              "      <td>0.732620</td>\n",
              "      <td>0.763066</td>\n",
              "      <td>0.761830</td>\n",
              "      <td>0.617391</td>\n",
              "      <td>0.714953</td>\n",
              "      <td>0.755043</td>\n",
              "      <td>0.733333</td>\n",
              "      <td>...</td>\n",
              "      <td>0.689412</td>\n",
              "      <td>0.733108</td>\n",
              "      <td>0.685714</td>\n",
              "      <td>0.639024</td>\n",
              "      <td>0.849421</td>\n",
              "      <td>0.531915</td>\n",
              "      <td>12</td>\n",
              "      <td>2171</td>\n",
              "      <td>38</td>\n",
              "      <td>1</td>\n",
              "    </tr>\n",
              "  </tbody>\n",
              "</table>\n",
              "<p>5 rows × 21 columns</p>\n",
              "</div>\n",
              "      <button class=\"colab-df-convert\" onclick=\"convertToInteractive('df-c8fa73bc-a4e1-4125-b4fa-94376a2271ba')\"\n",
              "              title=\"Convert this dataframe to an interactive table.\"\n",
              "              style=\"display:none;\">\n",
              "        \n",
              "  <svg xmlns=\"http://www.w3.org/2000/svg\" height=\"24px\"viewBox=\"0 0 24 24\"\n",
              "       width=\"24px\">\n",
              "    <path d=\"M0 0h24v24H0V0z\" fill=\"none\"/>\n",
              "    <path d=\"M18.56 5.44l.94 2.06.94-2.06 2.06-.94-2.06-.94-.94-2.06-.94 2.06-2.06.94zm-11 1L8.5 8.5l.94-2.06 2.06-.94-2.06-.94L8.5 2.5l-.94 2.06-2.06.94zm10 10l.94 2.06.94-2.06 2.06-.94-2.06-.94-.94-2.06-.94 2.06-2.06.94z\"/><path d=\"M17.41 7.96l-1.37-1.37c-.4-.4-.92-.59-1.43-.59-.52 0-1.04.2-1.43.59L10.3 9.45l-7.72 7.72c-.78.78-.78 2.05 0 2.83L4 21.41c.39.39.9.59 1.41.59.51 0 1.02-.2 1.41-.59l7.78-7.78 2.81-2.81c.8-.78.8-2.07 0-2.86zM5.41 20L4 18.59l7.72-7.72 1.47 1.35L5.41 20z\"/>\n",
              "  </svg>\n",
              "      </button>\n",
              "      \n",
              "  <style>\n",
              "    .colab-df-container {\n",
              "      display:flex;\n",
              "      flex-wrap:wrap;\n",
              "      gap: 12px;\n",
              "    }\n",
              "\n",
              "    .colab-df-convert {\n",
              "      background-color: #E8F0FE;\n",
              "      border: none;\n",
              "      border-radius: 50%;\n",
              "      cursor: pointer;\n",
              "      display: none;\n",
              "      fill: #1967D2;\n",
              "      height: 32px;\n",
              "      padding: 0 0 0 0;\n",
              "      width: 32px;\n",
              "    }\n",
              "\n",
              "    .colab-df-convert:hover {\n",
              "      background-color: #E2EBFA;\n",
              "      box-shadow: 0px 1px 2px rgba(60, 64, 67, 0.3), 0px 1px 3px 1px rgba(60, 64, 67, 0.15);\n",
              "      fill: #174EA6;\n",
              "    }\n",
              "\n",
              "    [theme=dark] .colab-df-convert {\n",
              "      background-color: #3B4455;\n",
              "      fill: #D2E3FC;\n",
              "    }\n",
              "\n",
              "    [theme=dark] .colab-df-convert:hover {\n",
              "      background-color: #434B5C;\n",
              "      box-shadow: 0px 1px 3px 1px rgba(0, 0, 0, 0.15);\n",
              "      filter: drop-shadow(0px 1px 2px rgba(0, 0, 0, 0.3));\n",
              "      fill: #FFFFFF;\n",
              "    }\n",
              "  </style>\n",
              "\n",
              "      <script>\n",
              "        const buttonEl =\n",
              "          document.querySelector('#df-c8fa73bc-a4e1-4125-b4fa-94376a2271ba button.colab-df-convert');\n",
              "        buttonEl.style.display =\n",
              "          google.colab.kernel.accessAllowed ? 'block' : 'none';\n",
              "\n",
              "        async function convertToInteractive(key) {\n",
              "          const element = document.querySelector('#df-c8fa73bc-a4e1-4125-b4fa-94376a2271ba');\n",
              "          const dataTable =\n",
              "            await google.colab.kernel.invokeFunction('convertToInteractive',\n",
              "                                                     [key], {});\n",
              "          if (!dataTable) return;\n",
              "\n",
              "          const docLinkHtml = 'Like what you see? Visit the ' +\n",
              "            '<a target=\"_blank\" href=https://colab.research.google.com/notebooks/data_table.ipynb>data table notebook</a>'\n",
              "            + ' to learn more about interactive tables.';\n",
              "          element.innerHTML = '';\n",
              "          dataTable['output_type'] = 'display_data';\n",
              "          await google.colab.output.renderOutput(dataTable, element);\n",
              "          const docLink = document.createElement('div');\n",
              "          docLink.innerHTML = docLinkHtml;\n",
              "          element.appendChild(docLink);\n",
              "        }\n",
              "      </script>\n",
              "    </div>\n",
              "  </div>\n",
              "  "
            ]
          },
          "metadata": {},
          "execution_count": 176
        }
      ]
    },
    {
      "cell_type": "markdown",
      "source": [
        "Split dataset into x and y"
      ],
      "metadata": {
        "id": "IxQTwanarXzy"
      }
    },
    {
      "cell_type": "code",
      "source": [
        "x = pd.DataFrame(df.iloc[:, :20].values) # if we use encoding label encoder or target encoder\n",
        "y = df.iloc[:, 20].values\n",
        "\n",
        "# #if we use one hot encoder\n",
        "# y = df['credit_risk'] # keeping column credit_risk in y object\n",
        "# column = df.columns # keep all column in column object\n",
        "# x = df[[i for i in column if i != 'credit_risk']] # keep all column except credit_risk column in x object"
      ],
      "metadata": {
        "id": "suOzz_VXrXFf"
      },
      "execution_count": null,
      "outputs": []
    },
    {
      "cell_type": "code",
      "source": [
        "from sklearn.model_selection import train_test_split\n",
        "x_train, x_test, y_train, y_test = train_test_split(x, y, test_size = 0.2, random_state = 0)"
      ],
      "metadata": {
        "id": "7-EFFMF8ryzv"
      },
      "execution_count": null,
      "outputs": []
    },
    {
      "cell_type": "code",
      "source": [
        "y_train"
      ],
      "metadata": {
        "colab": {
          "base_uri": "https://localhost:8080/"
        },
        "id": "ZMLYaFgR87Tu",
        "outputId": "e16b72b2-770e-4c41-f595-5f2ed001d174"
      },
      "execution_count": null,
      "outputs": [
        {
          "output_type": "execute_result",
          "data": {
            "text/plain": [
              "array([1, 1, 1, 0, 1, 1, 1, 1, 1, 1, 1, 1, 1, 0, 1, 1, 0, 0, 1, 1, 1, 1,\n",
              "       1, 0, 1, 1, 1, 0, 1, 1, 0, 0, 1, 1, 1, 0, 1, 1, 1, 0, 1, 1, 1, 1,\n",
              "       1, 1, 1, 1, 1, 1, 1, 1, 0, 1, 1, 1, 1, 1, 1, 0, 1, 1, 0, 1, 0, 1,\n",
              "       0, 1, 1, 1, 1, 1, 1, 1, 1, 1, 1, 1, 0, 1, 1, 1, 1, 1, 1, 0, 1, 0,\n",
              "       0, 1, 0, 0, 0, 1, 1, 1, 0, 1, 1, 1, 1, 1, 0, 1, 1, 0, 1, 1, 1, 0,\n",
              "       1, 1, 1, 1, 1, 1, 1, 1, 0, 1, 1, 1, 1, 1, 1, 1, 1, 1, 1, 0, 0, 0,\n",
              "       1, 0, 1, 1, 1, 1, 0, 1, 1, 0, 1, 1, 0, 0, 1, 1, 1, 1, 1, 1, 1, 0,\n",
              "       0, 1, 0, 1, 1, 0, 1, 1, 1, 0, 0, 1, 0, 1, 1, 0, 1, 1, 1, 1, 1, 1,\n",
              "       0, 1, 1, 1, 1, 1, 1, 1, 1, 1, 1, 0, 1, 0, 1, 0, 1, 0, 1, 1, 1, 1,\n",
              "       1, 1, 0, 1, 1, 1, 1, 1, 1, 0, 0, 1, 1, 1, 1, 1, 0, 0, 0, 1, 1, 1,\n",
              "       1, 1, 1, 1, 1, 1, 0, 1, 1, 1, 1, 0, 1, 1, 1, 1, 1, 0, 1, 1, 1, 0,\n",
              "       0, 1, 0, 0, 1, 1, 0, 0, 1, 1, 0, 1, 1, 1, 1, 1, 1, 0, 1, 1, 1, 1,\n",
              "       1, 1, 1, 0, 1, 0, 1, 1, 1, 0, 0, 0, 1, 1, 0, 1, 1, 1, 1, 0, 1, 1,\n",
              "       1, 0, 0, 1, 1, 1, 1, 1, 0, 0, 1, 1, 0, 1, 0, 1, 0, 0, 1, 1, 1, 1,\n",
              "       1, 1, 1, 1, 0, 1, 1, 0, 1, 1, 1, 1, 1, 0, 1, 0, 1, 1, 0, 1, 1, 0,\n",
              "       1, 1, 1, 1, 1, 1, 0, 1, 1, 1, 0, 1, 1, 1, 1, 1, 0, 1, 0, 1, 1, 1,\n",
              "       1, 1, 1, 0, 0, 1, 0, 1, 1, 1, 1, 0, 1, 1, 1, 1, 0, 1, 0, 1, 0, 1,\n",
              "       0, 1, 0, 0, 0, 1, 0, 1, 1, 1, 1, 0, 1, 1, 1, 0, 1, 0, 0, 0, 1, 1,\n",
              "       1, 0, 0, 0, 1, 1, 1, 0, 1, 1, 0, 1, 1, 0, 1, 1, 0, 1, 1, 0, 0, 0,\n",
              "       0, 1, 1, 1, 1, 1, 1, 1, 1, 0, 1, 1, 1, 1, 1, 0, 0, 1, 1, 1, 1, 1,\n",
              "       0, 0, 1, 1, 1, 1, 0, 1, 0, 1, 0, 0, 1, 1, 1, 1, 1, 1, 0, 1, 1, 1,\n",
              "       1, 1, 1, 1, 0, 1, 1, 0, 0, 0, 0, 1, 0, 1, 0, 1, 1, 1, 1, 0, 0, 0,\n",
              "       0, 1, 1, 1, 1, 1, 1, 1, 1, 1, 1, 1, 0, 1, 0, 1, 0, 1, 1, 1, 1, 1,\n",
              "       1, 1, 1, 1, 1, 1, 1, 1, 1, 1, 1, 1, 1, 1, 0, 1, 1, 1, 0, 1, 1, 1,\n",
              "       1, 1, 1, 1, 1, 1, 1, 1, 1, 1, 1, 1, 0, 1, 1, 1, 0, 0, 1, 0, 1, 1,\n",
              "       1, 1, 1, 0, 1, 1, 0, 1, 1, 1, 1, 1, 1, 1, 1, 0, 1, 1, 1, 1, 0, 1,\n",
              "       0, 0, 1, 1, 1, 1, 1, 1, 1, 1, 1, 0, 1, 1, 1, 1, 0, 0, 1, 1, 1, 0,\n",
              "       1, 0, 1, 1, 1, 1, 1, 0, 1, 0, 1, 1, 1, 1, 1, 1, 1, 1, 1, 1, 0, 1,\n",
              "       1, 1, 1, 1, 0, 1, 1, 1, 1, 1, 1, 0, 1, 1, 1, 0, 1, 0, 1, 1, 1, 1,\n",
              "       0, 1, 1, 0, 1, 1, 1, 0, 1, 1, 1, 1, 1, 0, 0, 1, 1, 1, 1, 0, 0, 1,\n",
              "       0, 1, 0, 0, 0, 1, 1, 1, 1, 0, 1, 1, 1, 1, 1, 1, 0, 0, 1, 0, 1, 1,\n",
              "       0, 0, 0, 1, 1, 1, 0])"
            ]
          },
          "metadata": {},
          "execution_count": 179
        }
      ]
    },
    {
      "cell_type": "markdown",
      "source": [
        "MinMaxScaler"
      ],
      "metadata": {
        "id": "ZKO3QzyysIGD"
      }
    },
    {
      "cell_type": "code",
      "source": [
        "from sklearn.preprocessing import MinMaxScaler\n",
        "scaler = MinMaxScaler()\n",
        "x_train = scaler.fit_transform(x_train)\n",
        "x_test = scaler.transform(x_test)"
      ],
      "metadata": {
        "id": "lXTledbbr9Sj"
      },
      "execution_count": null,
      "outputs": []
    },
    {
      "cell_type": "code",
      "source": [
        "x_train"
      ],
      "metadata": {
        "colab": {
          "base_uri": "https://localhost:8080/"
        },
        "id": "cjOU-xXn8tRW",
        "outputId": "62eb81ed-c291-4213-d265-124a4350930d"
      },
      "execution_count": null,
      "outputs": [
        {
          "output_type": "execute_result",
          "data": {
            "text/plain": [
              "array([[0.        , 1.        , 1.        , ..., 0.21052632, 0.28824688,\n",
              "        0.15555556],\n",
              "       [0.        , 0.        , 1.        , ..., 0.52631579, 0.17531188,\n",
              "        0.46666667],\n",
              "       [0.        , 0.        , 1.        , ..., 0.13157895, 0.12790545,\n",
              "        0.24444444],\n",
              "       ...,\n",
              "       [0.        , 0.        , 1.        , ..., 0.84210526, 0.49113592,\n",
              "        0.22222222],\n",
              "       [0.        , 0.        , 1.        , ..., 0.52631579, 0.37019041,\n",
              "        0.24444444],\n",
              "       [0.        , 0.        , 0.        , ..., 0.52631579, 0.30045962,\n",
              "        0.62222222]])"
            ]
          },
          "metadata": {},
          "execution_count": 181
        }
      ]
    },
    {
      "cell_type": "code",
      "source": [
        "# Create adaboost classifer object\n",
        "abc = AdaBoostClassifier(n_estimators=50,\n",
        "                         learning_rate=0.1)\n",
        "# Train Adaboost Classifer\n",
        "model = abc.fit(x_train, y_train)\n",
        "\n",
        "#Predict the response for test dataset\n",
        "y_pred = model.predict(x_test)"
      ],
      "metadata": {
        "id": "6lCfkkx1ymly"
      },
      "execution_count": null,
      "outputs": []
    },
    {
      "cell_type": "markdown",
      "source": [
        "Result\n"
      ],
      "metadata": {
        "id": "AuLDO5y1rEXf"
      }
    },
    {
      "cell_type": "code",
      "source": [
        "from sklearn.metrics import mean_squared_error\n",
        "\n",
        "# for Train and Test Score the closer to 1 the better\n",
        "print(\"Train Score:\",model.score(x_train,y_train),\"\\n\") \n",
        "print(\"Test Score:\",model.score(x_test,y_test),\"\\n\")\n",
        "\n",
        "# finding the average of error squares between the true and the estimated values\n",
        "print(\"Mean Squared Error:\",mean_squared_error(y_test,y_pred),\"\\n\")\n",
        "\n",
        "# describe the model in all classess the closer to 1 the better\n",
        "print(\"Accuracy:\",metrics.accuracy_score(y_test, y_pred))\n"
      ],
      "metadata": {
        "colab": {
          "base_uri": "https://localhost:8080/"
        },
        "id": "HnWiAG1_zpDg",
        "outputId": "dc75d4be-efe8-46bf-e82f-96f78261e0f3"
      },
      "execution_count": null,
      "outputs": [
        {
          "output_type": "stream",
          "name": "stdout",
          "text": [
            "Train Score: 0.7576197387518142 \n",
            "\n",
            "Test Score: 0.7687861271676301 \n",
            "\n",
            "Mean Squared Error: 0.23121387283236994 \n",
            "\n",
            "Accuracy: 0.7687861271676301\n"
          ]
        }
      ]
    }
  ]
}